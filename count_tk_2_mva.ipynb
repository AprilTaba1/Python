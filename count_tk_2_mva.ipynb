{
 "cells": [
  {
   "cell_type": "code",
   "execution_count": 2,
   "id": "172e1fe5-50e6-4e49-ae9a-6c3c8de4bc0b",
   "metadata": {},
   "outputs": [],
   "source": [
    "import pandas as pd\n",
    "import numpy as np\n",
    "import matplotlib.pyplot as plt\n",
    "%matplotlib inline\n",
    "import seaborn as sns"
   ]
  },
  {
   "cell_type": "code",
   "execution_count": 3,
   "id": "a8d5e648-432e-47da-af8f-a07b0943e60a",
   "metadata": {},
   "outputs": [],
   "source": [
    "df = pd.read_csv ('Desktop/StudentList_mva.csv')"
   ]
  },
  {
   "cell_type": "code",
   "execution_count": 4,
   "id": "191372fc-fdab-4f47-9309-4a92006f0468",
   "metadata": {},
   "outputs": [
    {
     "name": "stdout",
     "output_type": "stream",
     "text": [
      "<class 'pandas.core.frame.DataFrame'>\n",
      "RangeIndex: 2024 entries, 0 to 2023\n",
      "Data columns (total 41 columns):\n",
      " #   Column                        Non-Null Count  Dtype  \n",
      "---  ------                        --------------  -----  \n",
      " 0   id                            2024 non-null   int64  \n",
      " 1   district_id                   2024 non-null   int64  \n",
      " 2   legacy_id                     0 non-null      float64\n",
      " 3   st_number                     2024 non-null   int64  \n",
      " 4   scope_id                      2024 non-null   int64  \n",
      " 5   scope_title                   2024 non-null   object \n",
      " 6   firstname                     2024 non-null   object \n",
      " 7   lastname                      2024 non-null   object \n",
      " 8   middlename                    1877 non-null   object \n",
      " 9   preferred_firstname           2024 non-null   object \n",
      " 10  preferred_lastname            2024 non-null   object \n",
      " 11  preferred_middlename          1877 non-null   object \n",
      " 12  gender                        2024 non-null   object \n",
      " 13  birthdate                     2024 non-null   object \n",
      " 14  age_years                     2024 non-null   int64  \n",
      " 15  homephone                     2024 non-null   object \n",
      " 16  homeemail                     312 non-null    object \n",
      " 17  schoolemail                   2024 non-null   object \n",
      " 18  city                          2024 non-null   object \n",
      " 19  parents_name                  2024 non-null   object \n",
      " 20  parents_email                 2023 non-null   object \n",
      " 21  counties_title                2024 non-null   object \n",
      " 22  primarylc                     2024 non-null   int64  \n",
      " 23  primarylc_name                2024 non-null   object \n",
      " 24  schooltracks_title            2024 non-null   object \n",
      " 25  anticipated_edprogram         0 non-null      float64\n",
      " 26  edprogram                     2024 non-null   object \n",
      " 27  gradelevel                    2024 non-null   object \n",
      " 28  initialentrydate              0 non-null      float64\n",
      " 29  firstenroll_start             2024 non-null   object \n",
      " 30  enrollments_start             2024 non-null   object \n",
      " 31  enrollments_finish            0 non-null      float64\n",
      " 32  csisexitreasons_reporting_id  0 non-null      float64\n",
      " 33  learning_center               2024 non-null   object \n",
      " 34  staff_lastname                2024 non-null   object \n",
      " 35  staff_firstname               2024 non-null   object \n",
      " 36  insertedby_login              2024 non-null   object \n",
      " 37  insertedby_date               2024 non-null   object \n",
      " 38  lastupdatedby_login           2024 non-null   object \n",
      " 39  lastupdatedby_date            2024 non-null   object \n",
      " 40  any_tags                      2005 non-null   object \n",
      "dtypes: float64(5), int64(6), object(30)\n",
      "memory usage: 648.4+ KB\n"
     ]
    }
   ],
   "source": [
    "df.info()"
   ]
  },
  {
   "cell_type": "code",
   "execution_count": 5,
   "id": "529b8a63-00a5-451f-bf13-b9fc0f10b1ed",
   "metadata": {},
   "outputs": [
    {
     "data": {
      "text/plain": [
       "gradelevel\n",
       "1     601\n",
       "2     583\n",
       "3     547\n",
       "KN    273\n",
       "TK     20\n",
       "Name: count, dtype: int64"
      ]
     },
     "execution_count": 5,
     "metadata": {},
     "output_type": "execute_result"
    }
   ],
   "source": [
    "df3 = df\n",
    "df['gradelevel'].value_counts()"
   ]
  },
  {
   "cell_type": "code",
   "execution_count": 6,
   "id": "57e5f8b0-5ec0-4d41-8b75-8a1a9d6642f4",
   "metadata": {},
   "outputs": [],
   "source": [
    "df3['gradelevel'] = df3['gradelevel'].replace(['TK', 'KN'], ['-2', '0'])\n",
    "\n"
   ]
  },
  {
   "cell_type": "code",
   "execution_count": 7,
   "id": "3555ffa3-bdaa-4591-ba62-c5089d9169fe",
   "metadata": {},
   "outputs": [
    {
     "data": {
      "text/plain": [
       "gradelevel\n",
       "1     601\n",
       "2     583\n",
       "3     547\n",
       "0     273\n",
       "-2     20\n",
       "Name: count, dtype: int64"
      ]
     },
     "execution_count": 7,
     "metadata": {},
     "output_type": "execute_result"
    }
   ],
   "source": [
    "df3['gradelevel'].value_counts()"
   ]
  },
  {
   "cell_type": "code",
   "execution_count": 8,
   "id": "420ee8ec-97fe-4cb1-abdb-bdc5ce6d2b4d",
   "metadata": {},
   "outputs": [
    {
     "data": {
      "text/plain": [
       "edprogram\n",
       "Independent Study        1457\n",
       "Continuing Pre-Enroll     567\n",
       "Name: count, dtype: int64"
      ]
     },
     "execution_count": 8,
     "metadata": {},
     "output_type": "execute_result"
    }
   ],
   "source": [
    "df3['edprogram'].value_counts()"
   ]
  },
  {
   "cell_type": "code",
   "execution_count": 9,
   "id": "92f6a927-fd58-473f-867e-d34fc36d6860",
   "metadata": {},
   "outputs": [
    {
     "name": "stdout",
     "output_type": "stream",
     "text": [
      "<class 'pandas.core.frame.DataFrame'>\n",
      "RangeIndex: 2024 entries, 0 to 2023\n",
      "Data columns (total 41 columns):\n",
      " #   Column                        Non-Null Count  Dtype  \n",
      "---  ------                        --------------  -----  \n",
      " 0   id                            2024 non-null   int64  \n",
      " 1   district_id                   2024 non-null   int64  \n",
      " 2   legacy_id                     0 non-null      float64\n",
      " 3   st_number                     2024 non-null   int64  \n",
      " 4   scope_id                      2024 non-null   int64  \n",
      " 5   scope_title                   2024 non-null   object \n",
      " 6   firstname                     2024 non-null   object \n",
      " 7   lastname                      2024 non-null   object \n",
      " 8   middlename                    1877 non-null   object \n",
      " 9   preferred_firstname           2024 non-null   object \n",
      " 10  preferred_lastname            2024 non-null   object \n",
      " 11  preferred_middlename          1877 non-null   object \n",
      " 12  gender                        2024 non-null   object \n",
      " 13  birthdate                     2024 non-null   object \n",
      " 14  age_years                     2024 non-null   int64  \n",
      " 15  homephone                     2024 non-null   object \n",
      " 16  homeemail                     312 non-null    object \n",
      " 17  schoolemail                   2024 non-null   object \n",
      " 18  city                          2024 non-null   object \n",
      " 19  parents_name                  2024 non-null   object \n",
      " 20  parents_email                 2023 non-null   object \n",
      " 21  counties_title                2024 non-null   object \n",
      " 22  primarylc                     2024 non-null   int64  \n",
      " 23  primarylc_name                2024 non-null   object \n",
      " 24  schooltracks_title            2024 non-null   object \n",
      " 25  anticipated_edprogram         0 non-null      float64\n",
      " 26  edprogram                     2024 non-null   object \n",
      " 27  gradelevel                    2024 non-null   object \n",
      " 28  initialentrydate              0 non-null      float64\n",
      " 29  firstenroll_start             2024 non-null   object \n",
      " 30  enrollments_start             2024 non-null   object \n",
      " 31  enrollments_finish            0 non-null      float64\n",
      " 32  csisexitreasons_reporting_id  0 non-null      float64\n",
      " 33  learning_center               2024 non-null   object \n",
      " 34  staff_lastname                2024 non-null   object \n",
      " 35  staff_firstname               2024 non-null   object \n",
      " 36  insertedby_login              2024 non-null   object \n",
      " 37  insertedby_date               2024 non-null   object \n",
      " 38  lastupdatedby_login           2024 non-null   object \n",
      " 39  lastupdatedby_date            2024 non-null   object \n",
      " 40  any_tags                      2005 non-null   object \n",
      "dtypes: float64(5), int64(6), object(30)\n",
      "memory usage: 648.4+ KB\n"
     ]
    }
   ],
   "source": [
    "df3.info()"
   ]
  },
  {
   "cell_type": "code",
   "execution_count": 10,
   "id": "04264975-1bc3-4a49-822e-9f5661838e39",
   "metadata": {},
   "outputs": [],
   "source": [
    "df3['gradelevel'] = df3['gradelevel'].astype(int)"
   ]
  },
  {
   "cell_type": "code",
   "execution_count": 11,
   "id": "ecf7f3df-ddcf-4086-bb1a-70aac43ddfd4",
   "metadata": {},
   "outputs": [
    {
     "data": {
      "text/plain": [
       "new_gradelevel\n",
       " 1    601\n",
       " 2    582\n",
       " 3    386\n",
       " 0    353\n",
       "-1     82\n",
       "-2     20\n",
       "Name: count, dtype: int64"
      ]
     },
     "execution_count": 11,
     "metadata": {},
     "output_type": "execute_result"
    }
   ],
   "source": [
    "df3['new_gradelevel'] = np.where(df3['edprogram'] == 'Continuing Pre-Enroll', df3['gradelevel'] - 1, df3['gradelevel'])\n",
    "\n",
    "df3['new_gradelevel'].value_counts()"
   ]
  },
  {
   "cell_type": "code",
   "execution_count": 12,
   "id": "13e00035-b999-4b81-9aef-439a87a3e7f2",
   "metadata": {},
   "outputs": [
    {
     "data": {
      "text/plain": [
       "1638"
      ]
     },
     "execution_count": 12,
     "metadata": {},
     "output_type": "execute_result"
    }
   ],
   "source": [
    "601 + 582  + 353 + 82 + 20\n"
   ]
  },
  {
   "cell_type": "code",
   "execution_count": 15,
   "id": "5df009ee-0e3e-4075-8189-f0eadb571a3b",
   "metadata": {},
   "outputs": [
    {
     "data": {
      "text/plain": [
       "386"
      ]
     },
     "execution_count": 15,
     "metadata": {},
     "output_type": "execute_result"
    }
   ],
   "source": [
    "len(df) - 1638"
   ]
  },
  {
   "cell_type": "code",
   "execution_count": 14,
   "id": "30bbc432-7322-480a-8d7b-ccdd0e651fa8",
   "metadata": {},
   "outputs": [],
   "source": [
    "df3.to_csv('mva_test.csv', index = False)"
   ]
  }
 ],
 "metadata": {
  "kernelspec": {
   "display_name": "Python 3 (ipykernel)",
   "language": "python",
   "name": "python3"
  },
  "language_info": {
   "codemirror_mode": {
    "name": "ipython",
    "version": 3
   },
   "file_extension": ".py",
   "mimetype": "text/x-python",
   "name": "python",
   "nbconvert_exporter": "python",
   "pygments_lexer": "ipython3",
   "version": "3.11.7"
  }
 },
 "nbformat": 4,
 "nbformat_minor": 5
}
